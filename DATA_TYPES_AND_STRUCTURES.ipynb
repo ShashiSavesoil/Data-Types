{
  "nbformat": 4,
  "nbformat_minor": 0,
  "metadata": {
    "colab": {
      "provenance": []
    },
    "kernelspec": {
      "name": "python3",
      "display_name": "Python 3"
    },
    "language_info": {
      "name": "python"
    }
  },
  "cells": [
    {
      "cell_type": "markdown",
      "source": [
        "**DATA TYPES AND** **STRUCTURES**"
      ],
      "metadata": {
        "id": "n2TOctbtG-1H"
      }
    },
    {
      "cell_type": "markdown",
      "source": [
        "1. What are data structures, and why are they important\n",
        "- Data structures are specialized formats to store , access and organize data , they provide efficient ways to manage information.\n",
        "they are important because chosing right data types impacts the efficiency and performance of program.Simplify data manipulation and optimize searching and sorting.\n",
        "\n",
        "2.  Explain the difference between mutable and immutable data types with examples ?\n",
        "- Data types which we can change or modify after their creation are matable data types where as certain data types like strings and tuples we cannot modify them after their creation are called immutable data types.\n",
        "\n",
        "3. What are the main differences between lists and tuples in Python ?\n",
        "-  Lists are mutable and tuples are immutable data types.\n",
        "\n",
        "4. Describe how dictionaries store data ?\n",
        "- Dictionaries store data in key value pair where every key is assigned with a corresponding value.\n",
        "\n",
        "5.  Why might you use a set instead of a list in Python ?\n",
        "- If we don't want repetations of iteams/elements we use set becacuse to get unique elements.\n",
        "\n",
        "6. What is a string in Python, and how is it different from a list ?\n",
        "- String in python is a data type.string is immutable where as list is mutable data type.\n",
        "\n",
        "7.  How do tuples ensure data integrity in Python ?\n",
        "- Tuples are immutable we cannot change/modify once we define them.\n",
        "\n",
        "8. What is a hash table, and how does it relate to dictionaries in Python ?\n",
        "- In dictionaries key value pairs , hash function converts key into an integer to determine index where value is stored.\n",
        "\n",
        "9. Can lists contain different data types in Python ?\n",
        "- Yes, lists can contain different data types like strings, tuples, integers.\n",
        "        a=[(1,2,3),{4,5},\"Shiva\"]\n",
        "\n",
        "10.  Explain why strings are immutable in Python ?\n",
        "- Python uses a technique called string interning where identical strings are stored only once in memory to save space . If strings are mutable change of one would effect all cause unpredicitable behaviour.\n",
        "\n",
        "11. What advantages do dictionaries offer over lists for certain tasks?\n",
        "- We can store data in key value pairs which is easy to access values using keys and dictionaries more readable than lists and more opperations we can perform\n",
        "\n",
        "12. Describe a scenario where using a tuple would be preferable over a list\n",
        "- If you want to store the data which you don't want to change it again like company employes id we can use tuple over lists because of its immutabality.\n",
        "\n",
        "13. How do sets handle duplicate values in Python?\n",
        "- Sets in python are unique if we add same elements multiple times it will take only once.\n",
        "\n",
        "14. How does the “in” keyword work differently for lists and dictionaries?\n",
        "- \"in\" is used to identify elements in both but in lists \"in\" is used to check a specific value present as an element in list or not.\n",
        "where as in dictionary \"in\" is used to check whether a specific value is exists as a key in dictionary,not as a  value.\n",
        "\n",
        "15. Can you modify the elements of a tuple? Explain why or why not?\n",
        "- No we can't because tuple is immutable, and it stores same type of data in a single memory address if we change a one other will also change.\n",
        "\n",
        "16. What is a nested dictionary, and give an example of its use case?\n",
        "- Nested dictionary is a dictionary in python where values are also dictionaries , each key value of outer dictionary points to a dictionary. It is useful to store complex data. Like outer dictionary key is student name and corresponding value is a dictionary which stores age, grade, id details of that particulalr student.\n",
        "\n",
        "17. Describe the time complexity of accessing elements in a dictionary?\n",
        "- O(1)\n",
        "\n",
        "18. In what situations are lists preferred over dictionaries?\n",
        "- If you want ordered or sequential data like [\"wake up\", \"brush\" ,\"exercise\", \"bath\"] , for small data and index access if you want to access elements by index.\n",
        "\n",
        "19. Why are dictionaries considered unordered, and how does that affect data retrieval?\n",
        "- Elements are not stored in specific order , each key acts as unique indefier for retriving an associated value.\n",
        "\n",
        "20. Explain the difference between a list and a dictionary in terms of data retrieval?\n",
        "- in list we can access elements using index where as in dictionary we use keys as index to access elements.\n",
        ""
      ],
      "metadata": {
        "id": "yTLf6tzoHU0Z"
      }
    },
    {
      "cell_type": "code",
      "source": [
        "#1  Write a code to create a string with your name and print it\n",
        "\n",
        "str1= \"Shashi\"\n",
        "print(str1)\n",
        "\n"
      ],
      "metadata": {
        "colab": {
          "base_uri": "https://localhost:8080/"
        },
        "id": "OOMLKlcebeWM",
        "outputId": "d24aafd7-4b2e-4293-f6d6-b658b5bfb3c9"
      },
      "execution_count": 1,
      "outputs": [
        {
          "output_type": "stream",
          "name": "stdout",
          "text": [
            "Shashi\n"
          ]
        }
      ]
    },
    {
      "cell_type": "code",
      "source": [
        "#2  Write a code to find the length of the string \"Hello World\"\n",
        "\n",
        "str = \"Hello World\"\n",
        "print(len(str))"
      ],
      "metadata": {
        "colab": {
          "base_uri": "https://localhost:8080/"
        },
        "id": "SwkWrYMqMhV2",
        "outputId": "0c4604e3-3c18-4517-ddf8-ed9948f153f1"
      },
      "execution_count": 2,
      "outputs": [
        {
          "output_type": "stream",
          "name": "stdout",
          "text": [
            "11\n"
          ]
        }
      ]
    },
    {
      "cell_type": "code",
      "source": [
        "#3  Write a code to slice the first 3 characters from the string \"Python Programming\"\n",
        "str = \"Python Programming\"\n",
        "print(str[:3])\n"
      ],
      "metadata": {
        "colab": {
          "base_uri": "https://localhost:8080/"
        },
        "id": "TqUj1gd3Mz3A",
        "outputId": "265ef841-c55b-457a-9346-552ba9a48696"
      },
      "execution_count": 3,
      "outputs": [
        {
          "output_type": "stream",
          "name": "stdout",
          "text": [
            "Pyt\n"
          ]
        }
      ]
    },
    {
      "cell_type": "code",
      "source": [
        "#4 Write a code to convert the string \"hello\" to uppercase\n",
        "str1 = \"hello\"\n",
        "print((str1.upper)())"
      ],
      "metadata": {
        "colab": {
          "base_uri": "https://localhost:8080/"
        },
        "id": "3AiYRs0MN6HW",
        "outputId": "f19ea7c2-29c9-41f3-d59a-c65133caa38c"
      },
      "execution_count": 4,
      "outputs": [
        {
          "output_type": "stream",
          "name": "stdout",
          "text": [
            "HELLO\n"
          ]
        }
      ]
    },
    {
      "cell_type": "code",
      "source": [
        "#5 Write a code to replace the word \"apple\" with \"orange\" in the string \"I like apple\"\n",
        "str2= \"I like apple\"\n",
        "print(str2.replace(\"apple\",\"orange\"))\n",
        "\n"
      ],
      "metadata": {
        "colab": {
          "base_uri": "https://localhost:8080/"
        },
        "id": "CjrHukCciX4F",
        "outputId": "77f3cc76-b5ec-435f-96bb-9c24c645cfd7"
      },
      "execution_count": 5,
      "outputs": [
        {
          "output_type": "stream",
          "name": "stdout",
          "text": [
            "I like orange\n"
          ]
        }
      ]
    },
    {
      "cell_type": "code",
      "source": [
        "#6 Write a code to create a list with numbers 1 to 5 and print it\n",
        "list = [1,2,3,4,5]\n",
        "print(list)"
      ],
      "metadata": {
        "colab": {
          "base_uri": "https://localhost:8080/"
        },
        "id": "HHVg10a_lHbI",
        "outputId": "0c494d9c-36b7-49df-b870-175f7a46c916"
      },
      "execution_count": 6,
      "outputs": [
        {
          "output_type": "stream",
          "name": "stdout",
          "text": [
            "[1, 2, 3, 4, 5]\n"
          ]
        }
      ]
    },
    {
      "cell_type": "code",
      "source": [
        "#7  Write a code to append the number 10 to the list [1, 2, 3, 4]\n",
        "list=[1,2,3,4]\n",
        "list.append(10)\n",
        "print(list)"
      ],
      "metadata": {
        "colab": {
          "base_uri": "https://localhost:8080/"
        },
        "id": "cKI5mcS6mCdZ",
        "outputId": "6b9557cd-2828-4672-d298-8b275adfcc75"
      },
      "execution_count": 8,
      "outputs": [
        {
          "output_type": "stream",
          "name": "stdout",
          "text": [
            "[1, 2, 3, 4, 10]\n"
          ]
        }
      ]
    },
    {
      "cell_type": "code",
      "source": [
        "#8 Write a code to remove the number 3 from the list [1, 2, 3, 4, 5]\n",
        "list = [1, 2, 3, 4, 5]\n",
        "list.remove(3)\n",
        "print(list)"
      ],
      "metadata": {
        "colab": {
          "base_uri": "https://localhost:8080/"
        },
        "id": "VnOmQ_iomYzQ",
        "outputId": "f617bea2-64af-451e-b908-4319671f190e"
      },
      "execution_count": 9,
      "outputs": [
        {
          "output_type": "stream",
          "name": "stdout",
          "text": [
            "[1, 2, 4, 5]\n"
          ]
        }
      ]
    },
    {
      "cell_type": "code",
      "source": [
        "#9  Write a code to access the second element in the list ['a', 'b', 'c', 'd']\n",
        "list =['a', 'b', 'c', 'd']\n",
        "print(list[1])"
      ],
      "metadata": {
        "colab": {
          "base_uri": "https://localhost:8080/"
        },
        "id": "BylbAFrXm-SR",
        "outputId": "07b17cd9-d0d4-424e-9ece-daecbc5d2bd3"
      },
      "execution_count": 10,
      "outputs": [
        {
          "output_type": "stream",
          "name": "stdout",
          "text": [
            "b\n"
          ]
        }
      ]
    },
    {
      "cell_type": "code",
      "source": [
        "#10  Write a code to reverse the list [10, 20, 30, 40, 50]\n",
        "list1 = [10, 20, 30, 40, 50]\n",
        "length = len(list) - 1\n",
        "rev_list=[]\n",
        "for i in range(length,-1,-1):\n",
        "  rev_list.append(list1[i])\n",
        "print(rev_list)\n",
        "\n",
        "\n"
      ],
      "metadata": {
        "colab": {
          "base_uri": "https://localhost:8080/"
        },
        "id": "qz0movZ-nWm0",
        "outputId": "20993ae5-f5de-4338-e502-3f73fa5c83af"
      },
      "execution_count": 19,
      "outputs": [
        {
          "output_type": "stream",
          "name": "stdout",
          "text": [
            "[50, 40, 30, 20, 10]\n"
          ]
        }
      ]
    },
    {
      "cell_type": "code",
      "source": [
        "#11 Write a code to create a tuple with the elements 10, 20, 30 and print it.\n",
        "t=(10,20,30)\n",
        "print(t)\n",
        "\n"
      ],
      "metadata": {
        "colab": {
          "base_uri": "https://localhost:8080/"
        },
        "id": "IRCfLdwovxyx",
        "outputId": "df4072c7-45a9-4d43-d3ab-207eee226ac4"
      },
      "execution_count": 20,
      "outputs": [
        {
          "output_type": "stream",
          "name": "stdout",
          "text": [
            "(10, 20, 30)\n"
          ]
        }
      ]
    },
    {
      "cell_type": "code",
      "source": [
        "#12 Write a code to access the first element of the tuple ('apple', 'banana', 'cherry')\n",
        "tuple1 = ('apple', 'banana', 'cherry')\n",
        "print(tuple1[0])\n",
        "\n"
      ],
      "metadata": {
        "colab": {
          "base_uri": "https://localhost:8080/"
        },
        "id": "SlrLX5X1zRAd",
        "outputId": "53b0529b-7b93-414e-cfaa-71b458c04ae1"
      },
      "execution_count": 23,
      "outputs": [
        {
          "output_type": "stream",
          "name": "stdout",
          "text": [
            "apple\n"
          ]
        }
      ]
    },
    {
      "cell_type": "code",
      "source": [
        "#13 Write a code to count how many times the number 2 appears in the tuple (1, 2, 3, 2, 4, 2).\n",
        "tuple =(1, 2, 3, 2, 4, 2)\n",
        "l = len(tuple)\n",
        "count=0\n",
        "for i in range(l):\n",
        "  if tuple[i]==2:\n",
        "   count+=1\n",
        "print(count)\n",
        "\n"
      ],
      "metadata": {
        "colab": {
          "base_uri": "https://localhost:8080/"
        },
        "id": "N80GzxVpzpm9",
        "outputId": "57c8a0aa-8ef9-42c6-d8e2-f7051268e7d8"
      },
      "execution_count": 27,
      "outputs": [
        {
          "output_type": "stream",
          "name": "stdout",
          "text": [
            "3\n"
          ]
        }
      ]
    },
    {
      "cell_type": "code",
      "source": [
        "#14 Write a code to find the index of the element \"cat\" in the tuple ('dog', 'cat', 'rabbit').\n",
        "a = ('dog', 'cat', 'rabbit')\n",
        "print(a.index(\"cat\"))\n",
        "\n"
      ],
      "metadata": {
        "colab": {
          "base_uri": "https://localhost:8080/"
        },
        "id": "D3HEWE9c020-",
        "outputId": "e8a958f3-933a-4d26-9b01-3f18bbfd87f6"
      },
      "execution_count": 29,
      "outputs": [
        {
          "output_type": "stream",
          "name": "stdout",
          "text": [
            "1\n"
          ]
        }
      ]
    },
    {
      "cell_type": "code",
      "source": [
        "#15 Write a code to check if the element \"banana\" is in the tuple ('apple', 'orange', 'banana').\n",
        "tuple = ('apple', 'orange', 'banana')\n",
        "\"banana\" in tuple\n",
        "\n",
        "\n",
        "\n"
      ],
      "metadata": {
        "colab": {
          "base_uri": "https://localhost:8080/"
        },
        "id": "V2n19ELY1rER",
        "outputId": "ff808f26-2c8b-44b7-9bbf-2d52a1e615ad"
      },
      "execution_count": 30,
      "outputs": [
        {
          "output_type": "execute_result",
          "data": {
            "text/plain": [
              "True"
            ]
          },
          "metadata": {},
          "execution_count": 30
        }
      ]
    },
    {
      "cell_type": "code",
      "source": [
        "#16 Write a code to create a set with the elements 1, 2, 3, 4, 5 and print it.\n",
        "set = {1,2,3,4,5,}\n",
        "print(set)\n",
        "\n"
      ],
      "metadata": {
        "colab": {
          "base_uri": "https://localhost:8080/"
        },
        "id": "2Vkn6m672Pkn",
        "outputId": "b3793e3b-8314-4a6c-e53c-8ffc0bb8ba97"
      },
      "execution_count": 31,
      "outputs": [
        {
          "output_type": "stream",
          "name": "stdout",
          "text": [
            "{1, 2, 3, 4, 5}\n"
          ]
        }
      ]
    },
    {
      "cell_type": "code",
      "source": [
        "#17 Write a code to add the element 6 to the set {1, 2, 3, 4}\n",
        "set.add(6)\n",
        "print(set)"
      ],
      "metadata": {
        "colab": {
          "base_uri": "https://localhost:8080/"
        },
        "id": "GZVMQBLw2v94",
        "outputId": "f976552f-0d26-433a-946f-e5a9246a2768"
      },
      "execution_count": 32,
      "outputs": [
        {
          "output_type": "stream",
          "name": "stdout",
          "text": [
            "{1, 2, 3, 4, 5, 6}\n"
          ]
        }
      ]
    },
    {
      "cell_type": "code",
      "source": [
        "#18 Write a code to create a tuple with the elements 10, 20, 30 and print it\n",
        "tuple = (10,20,30)\n",
        "print(tuple)"
      ],
      "metadata": {
        "colab": {
          "base_uri": "https://localhost:8080/"
        },
        "id": "Uh7lqi_o3E3r",
        "outputId": "a324f4c8-6662-424d-a62f-df52e9185271"
      },
      "execution_count": 36,
      "outputs": [
        {
          "output_type": "stream",
          "name": "stdout",
          "text": [
            "(10, 20, 30)\n"
          ]
        }
      ]
    }
  ]
}