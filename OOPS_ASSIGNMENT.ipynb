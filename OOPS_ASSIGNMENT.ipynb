{
  "nbformat": 4,
  "nbformat_minor": 0,
  "metadata": {
    "colab": {
      "provenance": [],
      "authorship_tag": "ABX9TyPrTyb8oFwk0ZmfEkLwhoq8",
      "include_colab_link": true
    },
    "kernelspec": {
      "name": "python3",
      "display_name": "Python 3"
    },
    "language_info": {
      "name": "python"
    }
  },
  "cells": [
    {
      "cell_type": "markdown",
      "metadata": {
        "id": "view-in-github",
        "colab_type": "text"
      },
      "source": [
        "<a href=\"https://colab.research.google.com/github/ShashiSavesoil/Data-Types/blob/main/OOPS_ASSIGNMENT.ipynb\" target=\"_parent\"><img src=\"https://colab.research.google.com/assets/colab-badge.svg\" alt=\"Open In Colab\"/></a>"
      ]
    },
    {
      "cell_type": "markdown",
      "source": [],
      "metadata": {
        "id": "u27maWIvtOWn"
      }
    },
    {
      "cell_type": "markdown",
      "source": [
        " **OPPS ASSIGNMENT**"
      ],
      "metadata": {
        "id": "rGVC8Nk9tUPM"
      }
    },
    {
      "cell_type": "markdown",
      "source": [
        "1.What is Object-Oriented Programming (OOP)?\n",
        "-  classes are blueprints/templets for creating an object\n",
        "- we are different objects of classes of human beings\n",
        "\n",
        "- if a backend developer wants to work/change some backend function>> all the - functions are at one place\n",
        "- oops helps you to arrange the required functions in respective classes\n",
        "\n",
        "2.What is a class in OOP?\n",
        "- Class in opp is the blue prints of the objects\n",
        "\n",
        "3.What is an object in OOP?\n",
        "- Object is instance of class that contains data and behaviour.\n",
        "\n",
        "4.What is the difference between abstraction and encapsulation?\n",
        "- Encapsulation is a process of building data and methods into calss while limiting access to some components.\n",
        "-Encapsulation creates private data members and methods within a class.\n",
        "-It restricts direct access to the class's internal state from outside the class.\n",
        "- Where as in abstraction we create an another abstract class and methods that give a high level-interference without implementing\n",
        "\n",
        "5.What are dunder methods in Python\n",
        "-dunder/magical methods are defined by build-in classes in python.\n",
        "- classes define these type of methods to create custom objects >> for init means data for every object.\n",
        "\n",
        "6.Explain the concept of inheritance in OOP\n",
        "- Inherente is a concept of implementing parent class methods to child class with out creating it again.\n",
        "\n",
        "7.What is polymorphism in OOP?\n",
        "- poly means many morphism means forms/states.\n",
        "- refers to an obj taking many forms depending on methods/data\n",
        "\n",
        "8.How is encapsulation achieved in Python?\n",
        "-  Encapsulation is a process of building data and methods into calss while limiting access to some components.\n",
        "\n",
        "9.What is a constructor in Python?\n",
        "- A constructor in Python is a special method that is automatically called when an object of a class is created.\n",
        "- The constructor method is named __init__()__init__(self) is  automitacally called when object is created.\n",
        "\n",
        "10.What are class and static methods in Python?\n",
        "-Class methods are methods that are bound to the class and not the instance of the class. They can access or\n",
        "modify class state that applies across all instances of the class. Class methods are defined using the\n",
        "@classmethod decorator.\n",
        "-class Student:\n",
        "    def __init__(self, name):\n",
        "        self.name = name #self means this variable/method is refererring to current instance of the class\n",
        "    \n",
        "    @classmethod #bound/binds to the class\n",
        "    def student_details(cls, name): #instead of self as first param, you are using cls>>meaning this method is associated/referring to the class itself\n",
        "        return cls(name)\n",
        "\n",
        "\n",
        "11.What is method overloading in Python?\n",
        "- method overloading is a feature that allows a class to have multiple methods with same name but different parameter.\n",
        "\n",
        "12.What is method overriding in OOP+\n",
        "- a technique that allows a subclass to provide its own implementation of a method that is already defined in its superclass.\n",
        "-When a subclass method is called, it overrides the superclass method.\n",
        "\n",
        "13.What is a property decorator in Python+\n",
        "- another way to expose private variables using property decorators\n",
        "-#you want to modify the price\n",
        "class Student:\n",
        "    def __init__(self, name, price):\n",
        "        self.__name = name\n",
        "        self.__price = price\n",
        "   \n",
        "    @property\n",
        "    def access_price(self):\n",
        "        return self.__price\n",
        "    \n",
        "    @access_price.setter\n",
        "    def price_set(self, price_new):\n",
        "        self.__price = price_new\n",
        "\n",
        "14.Why is polymorphism important in OOP?\n",
        "- it allows developers to write more efficient, flexible, and maintainable code. code resuability.\n",
        "\n",
        "15.What is an abstract class in Python?\n",
        "- we create an abstract class having methods that give an high level-interference without implemeting.\n",
        "- called only in subclass\n",
        "\n",
        "16.What are the advantages of OOP\n",
        "- The advantages of OOP are it helps to define the functions arragement in a particular order and we can store the required functions in class.\n",
        "- code resuibility>>Code can be broken down into smaller, more manageable pieces, modularity, security data hiding.\n",
        "\n",
        "17.What is the difference between a class variable and an instance variable?\n",
        "-Class variable is refers to class it self it means it also refers to all the all the objects of this particular class ,\n",
        "where as, instance variable are the variables that are refered to only any particular insance of that class.\n",
        "\n",
        "18.What is multiple inheritance in Python?\n",
        "- one child class may inherit the propety of mutiple parent class\n",
        "\n",
        "19.Explain the purpose of ‘’__str__’ and ‘__repr__’ ‘ methods in Python?\n",
        "- These methods are used to represent how objects are represented as strings but they serve  different purposes.\n",
        "-__str__ Method:\n",
        "Purpose: The __str__ method is intended to provide a user-friendly or informal string representation of an object.\n",
        "-Use Case: When you print an object or use str(object), Python will call the __str__ method to convert the object into a string.\n",
        "-class Person:\n",
        "    def __init__(self, name, age):\n",
        "        self.name = name\n",
        "        self.age = age\n",
        "    \n",
        "    def __str__(self):\n",
        "        return f\"{self.name}, {self.age} years old\"\n",
        "\n",
        "person = Person(\"John\", 30)\n",
        "print(person)  # Output: John, 30 years old\n",
        "\n",
        "- __repr__  is for developers or debugging, providing a detailed and precise string, ideally one that can be used to recreate the object.\n",
        "\n",
        "-class Person:\n",
        "    def __init__(self, name, age):\n",
        "        self.name = name\n",
        "        self.age = age\n",
        "    \n",
        "    def __repr__(self):\n",
        "        return f\"Person('{self.name}', {self.age})\"\n",
        "\n",
        "person = Person(\"John\", 30)\n",
        "print(repr(person))  # Output: Person('John', 30)\n",
        "\n",
        "20.What is the significance of the ‘super()’ function in Python?\n",
        "- super() is used to access methods from a parent class in a class hierarchy, allowing for more flexible and maintainable code.\n",
        " -super().hello()\n",
        "\n",
        " 21.What is the significance of the __del__ method in Python?\n",
        " - It is called when an object is about to be destroyed.\n",
        "\n",
        "22.What is the difference between @staticmethod and @classmethod in Python?\n",
        "-both @staticmethod and @classmethod are used to define methods that are not bound to an instance, but they differ in how they behave.\n",
        "-STATIC METHOD Does not have access to the class or instance; works like a regular function.\n",
        "-CLASS METHOD Has access to the class and can modify class-level attributes or call other class methods.\n",
        "\n",
        "23.How does polymorphism work in Python with inheritance?\n",
        "- In inherentence when we create same methods in parent and child class same name but different parameters then if we call that method then the method in which is defined in child class will be excuted first .\n",
        "\n",
        "24.What is method chaining in Python OOP?\n",
        "- refers to the practice of calling multiple methods on the same object in a single line of code,where each instance returns the object itself.\n",
        "\n",
        "25.What is the purpose of the __call__ method in Pyt\\hon?\n",
        "\n",
        "*   List item\n",
        "*   List item\n",
        "\n",
        "\n",
        "-When you define the __call__ method in a class, you make instances of that class callable, meaning you can use the object like a function.\n",
        "-This can be useful in several scenarios, such as when you want to encapsulate behavior that can be customized dynamically and still maintain the syntax of calling an object like a function.\n",
        "\n",
        "\n",
        "```class Multiplier:\n",
        "    def __init__(self, factor):\n",
        "        self.factor = factor\n",
        "\n",
        "    def __call__(self, number):\n",
        "        return number * self.factor\n",
        "\n",
        "# Creating an instance of Multiplier\n",
        "double = Multiplier(2)\n",
        "\n",
        "# Calling the instance like a function\n",
        "result = double(5)\n",
        "print(result)  # Output: 10\n",
        "\n",
        "# This is formatted as code\n",
        "```\n",
        "\n",
        "\n",
        "\n",
        "\n",
        "\n",
        "\n",
        "\n",
        "\n",
        "\n",
        "\n"
      ],
      "metadata": {
        "id": "9ilKDfzytfC3"
      }
    },
    {
      "cell_type": "markdown",
      "source": [
        "**PRACTICAL** **QUESTIONS**"
      ],
      "metadata": {
        "id": "LzKZ8mmelXoP"
      }
    },
    {
      "cell_type": "code",
      "source": [
        "'''#1 Create a parent class Animal with a method speak() that prints a generic message. Create a child class Dog\n",
        "that overrides the speak() method to print \"Bark! '''"
      ],
      "metadata": {
        "id": "u9wYUlPjlcNP"
      },
      "execution_count": null,
      "outputs": []
    },
    {
      "cell_type": "code",
      "source": [
        "class Animal:\n",
        "  def speak(self):\n",
        "    print(\" Iam Animal\")\n",
        "class Dog(Animal):\n",
        "  def speak(self):\n",
        "    return \"Bark\"\n",
        "\n",
        "\n"
      ],
      "metadata": {
        "id": "oWBmNf96ls23"
      },
      "execution_count": null,
      "outputs": []
    },
    {
      "cell_type": "code",
      "source": [
        "puppy=Dog()\n",
        "print(puppy.speak())"
      ],
      "metadata": {
        "colab": {
          "base_uri": "https://localhost:8080/"
        },
        "id": "hbtcaLXXmXGk",
        "outputId": "942ca96f-de94-48a5-d10e-3f787968d2a3"
      },
      "execution_count": null,
      "outputs": [
        {
          "output_type": "stream",
          "name": "stdout",
          "text": [
            "Bark\n"
          ]
        }
      ]
    },
    {
      "cell_type": "code",
      "source": [
        "'''#2 Write a program to create an abstract class Shape with a method area(). Derive classes Circle and Rectangle\n",
        "from it and implement the area() method in both.'''"
      ],
      "metadata": {
        "id": "tMK8qhGcnPNw"
      },
      "execution_count": null,
      "outputs": []
    },
    {
      "cell_type": "code",
      "source": [
        "import abc\n",
        "\n",
        "class Shape:\n",
        "\n",
        "  @abc.abstractmethod\n",
        "  def area(self):\n",
        "    return\n",
        "\n",
        "class Circle(Shape):\n",
        "  def area(self):\n",
        "    return \"area of circle is 4*pi*r*r\"\n",
        "class Rectangle(Shape):\n",
        "  def area(self):\n",
        "    return \"area of rectangle is l*b\"\n",
        "\n",
        "\n",
        "\n",
        "\n"
      ],
      "metadata": {
        "id": "6eAJ7_42nYCM"
      },
      "execution_count": null,
      "outputs": []
    },
    {
      "cell_type": "code",
      "source": [
        "sun=Circle()\n",
        "sun.area()"
      ],
      "metadata": {
        "colab": {
          "base_uri": "https://localhost:8080/",
          "height": 35
        },
        "id": "cNoX1ZRUqDip",
        "outputId": "93890e6e-6d9f-485a-9597-963650af6d2a"
      },
      "execution_count": null,
      "outputs": [
        {
          "output_type": "execute_result",
          "data": {
            "text/plain": [
              "'area of circle is 4*pi*r*r'"
            ],
            "application/vnd.google.colaboratory.intrinsic+json": {
              "type": "string"
            }
          },
          "metadata": {},
          "execution_count": 12
        }
      ]
    },
    {
      "cell_type": "code",
      "source": [
        "''' #3. Implement a multi-level inheritance scenario where a class Vehicle has an attribute type. Derive a class Car\n",
        "and further derive a class ElectricCar that adds a battery attribute. '''"
      ],
      "metadata": {
        "id": "VKaZ6cCfcJNA"
      },
      "execution_count": null,
      "outputs": []
    },
    {
      "cell_type": "code",
      "source": [
        "class Vechile:\n",
        "  def __init__(self,type):\n",
        "    self.type=type\n",
        "  def vechile_prop():\n",
        "    return \"Vechile ready to move\"\n",
        "\n",
        "class Car(Vechile):\n",
        "  def __init__(self,type,make):\n",
        "    super().__init__(type) # Call the constructor of the Vehicle class\n",
        "    self.make=make\n",
        "\n",
        "class ElectricCar(Car):\n",
        "  def __init__(self,type,make,battery_capacity):\n",
        "    super().__init__(type,make)\n",
        "    self.battery_capacity=battery_capacity\n",
        "\n",
        "  def battery():\n",
        "    return f\"Electric car runs with a battery capacity {self.battery_capacity} \"\n",
        "\n"
      ],
      "metadata": {
        "id": "lXW1x7uBcTK_"
      },
      "execution_count": null,
      "outputs": []
    },
    {
      "cell_type": "code",
      "source": [
        "ElectricCar(\"Merchedes\",2007,\"5000Watt\")\n",
        "ElectricCar.vechile_prop()"
      ],
      "metadata": {
        "colab": {
          "base_uri": "https://localhost:8080/",
          "height": 35
        },
        "id": "leCDxOmjiF-o",
        "outputId": "e8e037af-4169-46b3-c291-29dd568cca00"
      },
      "execution_count": null,
      "outputs": [
        {
          "output_type": "execute_result",
          "data": {
            "text/plain": [
              "'Vechile ready to move'"
            ],
            "application/vnd.google.colaboratory.intrinsic+json": {
              "type": "string"
            }
          },
          "metadata": {},
          "execution_count": 11
        }
      ]
    },
    {
      "cell_type": "code",
      "source": [
        "''' #4. Demonstrate polymorphism by creating a base class Bird with a method fly(). Create two derived classes\n",
        " Sparrow and Penguin that override the fly() method '''"
      ],
      "metadata": {
        "id": "dHcRc4IDjZTl"
      },
      "execution_count": null,
      "outputs": []
    },
    {
      "cell_type": "code",
      "source": [
        "class Bird:\n",
        "  def fly(self):\n",
        "    return \"Those who want to fly \"\n",
        "class Sparrow(Bird):\n",
        "  def fly(self):\n",
        "    return \"Sparrow in my village\"\n",
        "class Penguin(Bird):\n",
        "  def fly(self):\n",
        "    return \"I have not seen Penguin\"\n"
      ],
      "metadata": {
        "id": "N3VlxK1TkpuH"
      },
      "execution_count": null,
      "outputs": []
    },
    {
      "cell_type": "code",
      "source": [
        "sparr=Sparrow()\n",
        "sparr.fly()"
      ],
      "metadata": {
        "colab": {
          "base_uri": "https://localhost:8080/",
          "height": 35
        },
        "id": "pCsTmuZ_jsRr",
        "outputId": "6bad23ed-8f49-4236-ea67-5f8722945f31"
      },
      "execution_count": null,
      "outputs": [
        {
          "output_type": "execute_result",
          "data": {
            "text/plain": [
              "'Sparrow in my village'"
            ],
            "application/vnd.google.colaboratory.intrinsic+json": {
              "type": "string"
            }
          },
          "metadata": {},
          "execution_count": 17
        }
      ]
    },
    {
      "cell_type": "code",
      "source": [
        "peng=Penguin()\n",
        "peng.fly()"
      ],
      "metadata": {
        "colab": {
          "base_uri": "https://localhost:8080/",
          "height": 35
        },
        "id": "Jj9lGaSMl7rN",
        "outputId": "d9bcf51e-0749-41c3-d62d-8e172b1f36c6"
      },
      "execution_count": null,
      "outputs": [
        {
          "output_type": "execute_result",
          "data": {
            "text/plain": [
              "'I have not seen Penguin'"
            ],
            "application/vnd.google.colaboratory.intrinsic+json": {
              "type": "string"
            }
          },
          "metadata": {},
          "execution_count": 19
        }
      ]
    },
    {
      "cell_type": "code",
      "source": [
        "''' 5. Write a program to demonstrate encapsulation by creating a class BankAccount with private attributes\n",
        "balance and methods to deposit, withdraw, and check balance'''"
      ],
      "metadata": {
        "id": "FLBb8ngLmrlG"
      },
      "execution_count": null,
      "outputs": []
    },
    {
      "cell_type": "code",
      "source": [
        "class BankAccount:\n",
        "  def __init__(self,balance):\n",
        "    self.__balance=balance\n",
        "\n",
        "  def deposite_amount(self,amount):\n",
        "    self.__balance+=amount\n",
        "\n",
        "  def withdraw(self,amount):\n",
        "    self.__balance-=amount\n",
        "\n",
        "  def check_balance(self):\n",
        "    return self.__balance\n",
        "\n"
      ],
      "metadata": {
        "id": "GBgAm73MmwE_"
      },
      "execution_count": null,
      "outputs": []
    },
    {
      "cell_type": "code",
      "source": [
        "babu1=BankAccount(5000)\n",
        "babu1.withdraw(500)\n",
        "babu1.check_balance()"
      ],
      "metadata": {
        "colab": {
          "base_uri": "https://localhost:8080/"
        },
        "id": "G9QA0VFgpm-Q",
        "outputId": "52a63b63-2d81-43f1-fecc-d67e5f627581"
      },
      "execution_count": null,
      "outputs": [
        {
          "output_type": "execute_result",
          "data": {
            "text/plain": [
              "4500"
            ]
          },
          "metadata": {},
          "execution_count": 27
        }
      ]
    },
    {
      "cell_type": "code",
      "source": [
        "''' 6. Demonstrate runtime polymorphism using a method play() in a base class Instrument. Derive classes Guitar\n",
        "and Piano that implement their own version of play().'''"
      ],
      "metadata": {
        "id": "3c8fNB5ZqSXL"
      },
      "execution_count": null,
      "outputs": []
    },
    {
      "cell_type": "code",
      "source": [
        "class Instrument:\n",
        "  def play(self):\n",
        "    return \"Instrument is playing\"\n",
        "class Guitar(Instrument):\n",
        "  def play(self):\n",
        "    return \"Din tha din tha din din thana\"\n",
        "class Piano(Instrument):\n",
        "  def play(self):\n",
        "    return \"pe pe peeee piano\"\n"
      ],
      "metadata": {
        "id": "8sUhnXyoqZ0y"
      },
      "execution_count": null,
      "outputs": []
    },
    {
      "cell_type": "code",
      "source": [
        "sohanPiano=Piano()\n",
        "sohanPiano.play()"
      ],
      "metadata": {
        "colab": {
          "base_uri": "https://localhost:8080/",
          "height": 35
        },
        "id": "tdn7wWkVttL-",
        "outputId": "64203760-43d8-4ba4-e72e-f63c414afb03"
      },
      "execution_count": null,
      "outputs": [
        {
          "output_type": "execute_result",
          "data": {
            "text/plain": [
              "'pe pe peeee piano'"
            ],
            "application/vnd.google.colaboratory.intrinsic+json": {
              "type": "string"
            }
          },
          "metadata": {},
          "execution_count": 32
        }
      ]
    },
    {
      "cell_type": "code",
      "source": [
        "'''7. Create a class MathOperations with a class method add_numbers() to add two numbers and a static\n",
        "method subtract_numbers() to subtract two numbers.'''"
      ],
      "metadata": {
        "id": "knrCNboAyu_K"
      },
      "execution_count": null,
      "outputs": []
    },
    {
      "cell_type": "code",
      "source": [
        "class MathOperations:\n",
        "  @classmethod\n",
        "  def add_numbers(self,a,b):\n",
        "    return a+b\n",
        "\n",
        "  @staticmethod\n",
        "  def subract(a,b):\n",
        "    return a-b\n"
      ],
      "metadata": {
        "id": "UxgNXvrfyxvd"
      },
      "execution_count": null,
      "outputs": []
    },
    {
      "cell_type": "code",
      "source": [
        "shashi=MathOperations()\n",
        "print(shashi.add_numbers(5,6))\n",
        "print(shashi.subract(7,5))\n",
        "print(MathOperations.add_numbers(2,3))\n",
        "MathOperations.subract(7,8)"
      ],
      "metadata": {
        "colab": {
          "base_uri": "https://localhost:8080/"
        },
        "id": "YZyS25I37PTk",
        "outputId": "2082a36f-9314-4b20-faac-a576699fb588"
      },
      "execution_count": null,
      "outputs": [
        {
          "output_type": "stream",
          "name": "stdout",
          "text": [
            "11\n",
            "2\n",
            "5\n"
          ]
        },
        {
          "output_type": "execute_result",
          "data": {
            "text/plain": [
              "-1"
            ]
          },
          "metadata": {},
          "execution_count": 13
        }
      ]
    },
    {
      "cell_type": "code",
      "source": [
        "'''8. Implement a class Person with a class method to count the total number of persons created.'''"
      ],
      "metadata": {
        "id": "t6cQOrHX8Chc"
      },
      "execution_count": null,
      "outputs": []
    },
    {
      "cell_type": "code",
      "source": [
        "class Person:\n",
        "  count_persons=0\n",
        "  def __init__(self,name):\n",
        "    self.name=name\n",
        "    Person.count_persons+=1\n",
        "  @classmethod\n",
        "  def persons_created(self):\n",
        "    return Person.count_persons"
      ],
      "metadata": {
        "id": "wVO42qY28GSC"
      },
      "execution_count": null,
      "outputs": []
    },
    {
      "cell_type": "code",
      "source": [
        "c1=Person(\"shahsi\")\n",
        "c2=Person(\"shiva\")\n",
        "c3=Person(\"Ram\")"
      ],
      "metadata": {
        "id": "1zGoGSqs81be"
      },
      "execution_count": null,
      "outputs": []
    },
    {
      "cell_type": "code",
      "source": [
        "Person.persons_created()"
      ],
      "metadata": {
        "colab": {
          "base_uri": "https://localhost:8080/"
        },
        "id": "giTlKsuA89Pw",
        "outputId": "d0d0129e-98bd-441f-e2ce-20c0f7171d0f"
      },
      "execution_count": null,
      "outputs": [
        {
          "output_type": "execute_result",
          "data": {
            "text/plain": [
              "3"
            ]
          },
          "metadata": {},
          "execution_count": 33
        }
      ]
    },
    {
      "cell_type": "code",
      "source": [
        "'''9. Write a class Fraction with attributes numerator and denominator. Override the str method to display the\n",
        "fraction as \"numerator/denominator\".'''"
      ],
      "metadata": {
        "id": "cWxwHtvn_8fc"
      },
      "execution_count": null,
      "outputs": []
    },
    {
      "cell_type": "code",
      "source": [
        "class Fraction:\n",
        "  def __init__(self,numerator,denominator):\n",
        "    if denominator==0:\n",
        "      raise ValueError(\"Denominator cannot be Zero\")\n",
        "    self.numenator = numerator\n",
        "    self.denominator=denominator\n",
        "\n",
        "  def __str__(self):\n",
        "    return f\"{self.numenator}/{self.denominator}\"\n",
        "\n",
        "\n",
        "\n"
      ],
      "metadata": {
        "id": "V0kIhXT5AAd_"
      },
      "execution_count": null,
      "outputs": []
    },
    {
      "cell_type": "code",
      "source": [
        "f1=Fraction(5,7)\n",
        "print(f1)"
      ],
      "metadata": {
        "colab": {
          "base_uri": "https://localhost:8080/"
        },
        "id": "xYRLw1xJCTjy",
        "outputId": "b86bb715-bbc9-4499-bcf1-83b84e891959"
      },
      "execution_count": null,
      "outputs": [
        {
          "output_type": "stream",
          "name": "stdout",
          "text": [
            "5/7\n"
          ]
        }
      ]
    },
    {
      "cell_type": "code",
      "source": [
        "''' 11. Create a class Person with attributes name and age. Add a method greet() that prints \"Hello, my name is\n",
        "{name} and I am {age} years old.'''"
      ],
      "metadata": {
        "id": "PxWrcrFFCTfm"
      },
      "execution_count": null,
      "outputs": []
    },
    {
      "cell_type": "code",
      "source": [
        "class Person:\n",
        "  def __init__(self,name,age):\n",
        "    self.name=name\n",
        "    self.age= age\n",
        "  def greet(self):\n",
        "    return f\"Hello, my name is {self.name} and I am {self.age} years old\""
      ],
      "metadata": {
        "id": "TCAHrmuYCTWe"
      },
      "execution_count": 45,
      "outputs": []
    },
    {
      "cell_type": "code",
      "source": [
        "per1=Person(\"shahsi\",21)\n",
        "per1.greet()"
      ],
      "metadata": {
        "colab": {
          "base_uri": "https://localhost:8080/",
          "height": 35
        },
        "id": "Ph_-1R9DMbjc",
        "outputId": "262a8837-0049-44f8-89d2-1085bf38f2c2"
      },
      "execution_count": 47,
      "outputs": [
        {
          "output_type": "execute_result",
          "data": {
            "text/plain": [
              "'Hello, my name is shahsi and I am 21 years old'"
            ],
            "application/vnd.google.colaboratory.intrinsic+json": {
              "type": "string"
            }
          },
          "metadata": {},
          "execution_count": 47
        }
      ]
    },
    {
      "cell_type": "code",
      "source": [
        "'''12. Implement a class Student with attributes name and grades. Create a method average_grade() to compute\n",
        "the average of the grades.'''"
      ],
      "metadata": {
        "id": "GYM-MCSbMsyU"
      },
      "execution_count": null,
      "outputs": []
    },
    {
      "cell_type": "code",
      "source": [
        "class Student:\n",
        "  def __init__(self,name,**args):\n",
        "    self.name=name\n",
        "    self.grades =args.get(\"grades\",[])\n",
        "\n",
        "  def  average_grade(self):\n",
        "    if not self.grades:\n",
        "      return 0\n",
        "    return sum(self.grades)/len(self.grades)\n",
        "\n",
        "\n"
      ],
      "metadata": {
        "id": "9YdSCun4NENB"
      },
      "execution_count": 52,
      "outputs": []
    },
    {
      "cell_type": "code",
      "source": [
        "s1 = Student(\"Alice\", grades=[85, 90, 78])\n",
        "print(s1.average_grade())"
      ],
      "metadata": {
        "colab": {
          "base_uri": "https://localhost:8080/"
        },
        "id": "CnPghgEOQfVJ",
        "outputId": "13831f2f-f7fb-4c97-a4e8-d5999df62269"
      },
      "execution_count": 53,
      "outputs": [
        {
          "output_type": "stream",
          "name": "stdout",
          "text": [
            "84.33333333333333\n"
          ]
        }
      ]
    },
    {
      "cell_type": "code",
      "source": [
        "'''13. Create a class Rectangle with methods set_dimensions() to set the dimensions and area() to calculate the\n",
        "area.'''"
      ],
      "metadata": {
        "id": "xH2Q1l1oQsm3"
      },
      "execution_count": null,
      "outputs": []
    },
    {
      "cell_type": "code",
      "source": [
        "class Rectangle:\n",
        "  def __init__(self,length,breath):\n",
        "    self.length=length\n",
        "    self.breath=breath\n",
        "\n",
        "  def set_dimensions(self,new_len,new_breath):\n",
        "    self.length=new_len\n",
        "    self.breath=new_breath\n",
        "\n",
        "  def area(self):\n",
        "    return self.length*self.breath\n",
        "\n"
      ],
      "metadata": {
        "id": "KP1GlihyQ0cb"
      },
      "execution_count": 54,
      "outputs": []
    },
    {
      "cell_type": "code",
      "source": [
        "rect1=Rectangle(4,5)"
      ],
      "metadata": {
        "id": "vjhs1k_fRywX"
      },
      "execution_count": 55,
      "outputs": []
    },
    {
      "cell_type": "code",
      "source": [
        "rect1.set_dimensions(7,8)"
      ],
      "metadata": {
        "id": "CyBfmQ9BR8UY"
      },
      "execution_count": 56,
      "outputs": []
    },
    {
      "cell_type": "code",
      "source": [
        "rect1.area()"
      ],
      "metadata": {
        "colab": {
          "base_uri": "https://localhost:8080/"
        },
        "id": "g5RGJQtySEAu",
        "outputId": "4de82557-e8f8-43d5-e972-1ee3750a45fd"
      },
      "execution_count": 57,
      "outputs": [
        {
          "output_type": "execute_result",
          "data": {
            "text/plain": [
              "56"
            ]
          },
          "metadata": {},
          "execution_count": 57
        }
      ]
    },
    {
      "cell_type": "code",
      "source": [
        "''' 14. Create a class Employee with a method calculate_salary() that computes the salary based on hours worked\n",
        "and hourly rate. Create a derived class Manager that adds a bonus to the salary.'''"
      ],
      "metadata": {
        "id": "a8SaNSKWSJEa"
      },
      "execution_count": null,
      "outputs": []
    },
    {
      "cell_type": "code",
      "source": [
        "class Employee:\n",
        "  def __init__(self,hours_worked,hourly_rate=1000):\n",
        "    self.hours_worked=hours_worked\n",
        "    self.hourly_rate=hourly_rate\n",
        "  def calculate_salary(self):\n",
        "    return self.hours_worked*self.hourly_rate\n",
        "\n",
        "class Manager(Employee):\n",
        "  def __init__(self,hours_work,hourly_rate=1000,bonus=5000):\n",
        "    super().__init__(hours_work,hourly_rate)\n",
        "    self.bonus=bonus\n",
        "\n",
        "  def calculate_salary(self):\n",
        "    return super().calculate_salary() + self.bonus\n",
        "\n",
        "\n"
      ],
      "metadata": {
        "id": "I3StBp8ySPnr"
      },
      "execution_count": 73,
      "outputs": []
    },
    {
      "cell_type": "code",
      "source": [
        "emp=Employee(7)\n",
        "emp.calculate_salary()"
      ],
      "metadata": {
        "colab": {
          "base_uri": "https://localhost:8080/"
        },
        "id": "wX69ih3SVuwk",
        "outputId": "4e39331c-5c98-441e-ecf9-f16a9c15d09a"
      },
      "execution_count": 74,
      "outputs": [
        {
          "output_type": "execute_result",
          "data": {
            "text/plain": [
              "7000"
            ]
          },
          "metadata": {},
          "execution_count": 74
        }
      ]
    },
    {
      "cell_type": "code",
      "source": [
        "man=Manager(7)\n",
        "man.calculate_salary()"
      ],
      "metadata": {
        "colab": {
          "base_uri": "https://localhost:8080/"
        },
        "id": "hJh3YFPSauHk",
        "outputId": "1b1cdc4b-5fa9-4351-9669-a64e26fedb81"
      },
      "execution_count": 76,
      "outputs": [
        {
          "output_type": "execute_result",
          "data": {
            "text/plain": [
              "12000"
            ]
          },
          "metadata": {},
          "execution_count": 76
        }
      ]
    },
    {
      "cell_type": "code",
      "source": [
        "'''15. Create a class Product with attributes name, price, and quantity. Implement a method total_price() that\n",
        "calculates the total price of the product.'''"
      ],
      "metadata": {
        "id": "b5J-LN4WbPmo"
      },
      "execution_count": null,
      "outputs": []
    },
    {
      "cell_type": "code",
      "source": [
        "class Product:\n",
        "  def __init__(self,name,price,quantity):\n",
        "    self.name=name\n",
        "    self.price=price\n",
        "    self.quantity=quantity\n",
        "\n",
        "  def total_price(self):\n",
        "    return self.price*self.quantity\n"
      ],
      "metadata": {
        "id": "ZFS47SPabTfn"
      },
      "execution_count": 79,
      "outputs": []
    },
    {
      "cell_type": "code",
      "source": [
        "pro1=Product(\"honey\",500,3)\n",
        "pro1.total_price()"
      ],
      "metadata": {
        "colab": {
          "base_uri": "https://localhost:8080/"
        },
        "id": "HYquYNrfdGS9",
        "outputId": "58b2fb61-328e-4a60-8b25-72b3bba9a2a3"
      },
      "execution_count": 80,
      "outputs": [
        {
          "output_type": "execute_result",
          "data": {
            "text/plain": [
              "1500"
            ]
          },
          "metadata": {},
          "execution_count": 80
        }
      ]
    },
    {
      "cell_type": "code",
      "source": [
        "''' 16. Create a class Animal with an abstract method sound(). Create two derived classes Cow and Sheep that\n",
        "implement the sound() method.'''"
      ],
      "metadata": {
        "id": "mLUfIGsGd6uG"
      },
      "execution_count": null,
      "outputs": []
    },
    {
      "cell_type": "code",
      "source": [
        "''' In Python, abc.ABC (Abstract Base Class) is used to define an abstract class. When a class inherits from abc.ABC, it ensures that:\n",
        "\n",
        "The class cannot be instantiated directly (you cannot create an object of Animal).\n",
        "It can contain abstract methods, which must be implemented by any subclass.'''\n",
        "\n",
        "\n",
        "import abc\n",
        "class Animal(abc.ABC):\n",
        "\n",
        "\n",
        "  @abc.abstractmethod\n",
        "  def sound(self):\n",
        "    return\n",
        "\n",
        "class Cow(Animal):\n",
        "  def sound(self):\n",
        "    return \"amba...\"\n",
        "\n",
        "class Sheep(Animal):\n",
        "  def sound(self):\n",
        "    return \"mayee...\""
      ],
      "metadata": {
        "id": "bQgpLkLLd9Sq"
      },
      "execution_count": 86,
      "outputs": []
    },
    {
      "cell_type": "code",
      "source": [
        "lakshmi=Cow()\n",
        "lakshmi.sound()"
      ],
      "metadata": {
        "colab": {
          "base_uri": "https://localhost:8080/",
          "height": 35
        },
        "id": "aFAB7NfKfunu",
        "outputId": "95bce5f8-f861-4ae5-b91f-ee23d6519583"
      },
      "execution_count": 82,
      "outputs": [
        {
          "output_type": "execute_result",
          "data": {
            "text/plain": [
              "'amba...'"
            ],
            "application/vnd.google.colaboratory.intrinsic+json": {
              "type": "string"
            }
          },
          "metadata": {},
          "execution_count": 82
        }
      ]
    },
    {
      "cell_type": "code",
      "source": [
        "sheep=Sheep()\n",
        "sheep.sound()"
      ],
      "metadata": {
        "colab": {
          "base_uri": "https://localhost:8080/",
          "height": 35
        },
        "id": "OnfQZGW-f3xb",
        "outputId": "67ac70d2-6dd9-4fe3-e627-f07234ad5efc"
      },
      "execution_count": 83,
      "outputs": [
        {
          "output_type": "execute_result",
          "data": {
            "text/plain": [
              "'mayee...'"
            ],
            "application/vnd.google.colaboratory.intrinsic+json": {
              "type": "string"
            }
          },
          "metadata": {},
          "execution_count": 83
        }
      ]
    },
    {
      "cell_type": "code",
      "source": [
        "'''17. Create a class Book with attributes title, author, and year_published. Add a method get_book_info() that\n",
        "returns a formatted string with the book's details.'''"
      ],
      "metadata": {
        "id": "JGaciLYphjH5"
      },
      "execution_count": null,
      "outputs": []
    },
    {
      "cell_type": "code",
      "source": [
        "class Book:\n",
        "  def __init__(self,title,author,year_published):\n",
        "    self.title=title\n",
        "    self.author=author\n",
        "    self.year_published=year_published\n",
        "\n",
        "  def get_book_info(self):\n",
        "    return f\"tite={self.title},author={self.author},year of publish={self.year_published}\""
      ],
      "metadata": {
        "id": "9UsBjr3lhvWe"
      },
      "execution_count": 87,
      "outputs": []
    },
    {
      "cell_type": "code",
      "source": [
        "pusthakam1=Book(\"Inner Engineering\",\"Sadhguru\",2016)\n",
        "pusthakam1.get_book_info()"
      ],
      "metadata": {
        "colab": {
          "base_uri": "https://localhost:8080/",
          "height": 35
        },
        "id": "f6doM3tvkhcA",
        "outputId": "78655390-6d15-4212-d929-147a9fa7c37a"
      },
      "execution_count": 90,
      "outputs": [
        {
          "output_type": "execute_result",
          "data": {
            "text/plain": [
              "'tite=Inner Engineering,author=Sadhguru,year of publish=2016'"
            ],
            "application/vnd.google.colaboratory.intrinsic+json": {
              "type": "string"
            }
          },
          "metadata": {},
          "execution_count": 90
        }
      ]
    },
    {
      "cell_type": "code",
      "source": [
        "'''18. Create a class House with attributes address and price. Create a derived class Mansion that adds an\n",
        "attribute number_of_rooms.'''"
      ],
      "metadata": {
        "id": "tTdy86iUl9Pl"
      },
      "execution_count": null,
      "outputs": []
    },
    {
      "cell_type": "code",
      "source": [
        "class House:\n",
        "  def __init__(self,address,price):\n",
        "    self.address=address\n",
        "    self.price=price\n",
        "\n",
        "class Mansion(House):\n",
        "  def __init__(self,address,price,number_of_rooms):\n",
        "    super().__init__(address,price)\n",
        "    self.number_of_rooms=number_of_rooms\n",
        "\n",
        "\n"
      ],
      "metadata": {
        "id": "GI3voUsPmBQo"
      },
      "execution_count": 91,
      "outputs": []
    },
    {
      "cell_type": "code",
      "source": [
        "hou=Mansion(\"hyderabad\",\"5000\",3)\n",
        "hou.address"
      ],
      "metadata": {
        "colab": {
          "base_uri": "https://localhost:8080/",
          "height": 35
        },
        "id": "ttX9Y8CPnllW",
        "outputId": "07dfa396-7caa-4e56-f779-453e36ed10ff"
      },
      "execution_count": 93,
      "outputs": [
        {
          "output_type": "execute_result",
          "data": {
            "text/plain": [
              "'hyderabad'"
            ],
            "application/vnd.google.colaboratory.intrinsic+json": {
              "type": "string"
            }
          },
          "metadata": {},
          "execution_count": 93
        }
      ]
    }
  ]
}